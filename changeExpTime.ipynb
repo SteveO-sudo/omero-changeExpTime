{
 "cells": [
  {
   "cell_type": "markdown",
   "metadata": {},
   "source": [
    "## Modules and methods which need to be imported:"
   ]
  },
  {
   "cell_type": "code",
   "execution_count": 10,
   "metadata": {},
   "outputs": [],
   "source": [
    "import omero\n",
    "from omero.gateway import BlitzGateway\n",
    "from omero.model.enums import UnitsTime\n",
    "from omero.model import PlaneInfoI\n",
    "from omero.model import TimeI\n",
    "from getpass import getpass"
   ]
  },
  {
   "cell_type": "markdown",
   "metadata": {},
   "source": [
    "## Definition to connect to the server"
   ]
  },
  {
   "cell_type": "markdown",
   "metadata": {},
   "source": [
    "Connect to the server. It is also important to close the connection again to clear up potential resources held on the server. This is done in the `disconnect method."
   ]
  },
  {
   "cell_type": "code",
   "execution_count": 2,
   "metadata": {},
   "outputs": [],
   "source": [
    "def connect(hostname, username, password, port):\n",
    "    \"\"\"\n",
    "    Connect to an OMERO server\n",
    "    :param hostname: Host name\n",
    "    :param username: User\n",
    "    :param password: Password\n",
    "    :return: Connected BlitzGateway\n",
    "    \"\"\"\n",
    "    conn = BlitzGateway(username, password,\n",
    "                        host=hostname, port = port, secure=True)\n",
    "    conn.connect()\n",
    "    conn.c.enableKeepAlive(60)\n",
    "    return conn\n",
    "\n",
    "\n",
    "def disconnect(conn):\n",
    "    \"\"\"\n",
    "    Disconnect from an OMERO server\n",
    "    :param conn: The BlitzGateway\n",
    "    \"\"\"\n",
    "    conn.close()"
   ]
  },
  {
   "cell_type": "markdown",
   "metadata": {},
   "source": [
    "## Function to return an object that contains the \"exposure time\" information from an input image:"
   ]
  },
  {
   "cell_type": "markdown",
   "metadata": {},
   "source": [
    "### Only returns a list for the first z plane and first channel!"
   ]
  },
  {
   "cell_type": "markdown",
   "metadata": {},
   "source": [
    "Need to modify to handle multiple z/c "
   ]
  },
  {
   "cell_type": "code",
   "execution_count": 11,
   "metadata": {},
   "outputs": [],
   "source": [
    "def makeInfoList(conn, image):\n",
    "    query_service = conn.getQueryService()\n",
    "    params = omero.sys.ParametersI()\n",
    "    params.addLong('pid', image.getPixelsId())\n",
    "    query = \"from PlaneInfo as Info where \\\n",
    "            Info.theZ=0 and Info.theC=0 and pixels.id=:pid\"\n",
    "    info_list = query_service.findAllByQuery(query, params, conn.SERVICE_OPTS)\n",
    "    return(info_list)"
   ]
  },
  {
   "cell_type": "markdown",
   "metadata": {},
   "source": [
    "## Pass the list to this function to actually change the exposure time:"
   ]
  },
  {
   "cell_type": "code",
   "execution_count": 12,
   "metadata": {},
   "outputs": [],
   "source": [
    "def changeExpTime(conn, info_list):\n",
    "    for info in info_list: #info_list has one info object per timepoint\n",
    "        exp_time = info.exposureTime.getValue()\n",
    "        exp_time = exp_time/1000\n",
    "        info.exposureTime = TimeI(exp_time, UnitsTime.MILLISECOND)\n",
    "    conn.getUpdateService().saveArray(info_list)"
   ]
  },
  {
   "cell_type": "code",
   "execution_count": 13,
   "metadata": {},
   "outputs": [],
   "source": [
    "def makeImageIdList(conn, datasetId):\n",
    "    \"\"\"\n",
    "    Make a list of Ids from images in the specified dataset\n",
    "    :param conn: The BlitzGateway\n",
    "    :param datasetId: The dataset's id\n",
    "    :return: The Images or None\n",
    "    \"\"\"\n",
    "    dataset = conn.getObject(\"Dataset\", datasetId)\n",
    "    images = []\n",
    "    for image in dataset.listChildren():\n",
    "        images.append(image.id)\n",
    "    if len(images) == 0:\n",
    "        return None\n",
    "    else:\n",
    "        return images"
   ]
  },
  {
   "cell_type": "markdown",
   "metadata": {},
   "source": [
    "## Main function that calls all others:"
   ]
  },
  {
   "cell_type": "markdown",
   "metadata": {},
   "source": [
    "In order the use the methods implemented above in a proper standalone script: Wrap it all up in an doIt method and call it from main:"
   ]
  },
  {
   "cell_type": "code",
   "execution_count": null,
   "metadata": {},
   "outputs": [],
   "source": [
    "def doIt(conn, datasetId):\n",
    "    image_list = makeImageIdList(conn,datasetId)\n",
    "    for imageId in image_list:\n",
    "        loaded_image = conn.getObject(\"Image\", imageId) #Could hange to for loop with known image ids, e.g.\n",
    "        infolist = makeInfoList(conn, loaded_image)\n",
    "        changeExpTime(conn, infolist)\n",
    "\n",
    "def main():\n",
    "    try:\n",
    "        hostname = input(\"Host [omerocloud.med.ualberta.ca]: \") or 'omerocloud.med.ualberta.ca'\n",
    "        username = input(\"Username [steve]: \") or 'steve'\n",
    "        password = getpass(\"Password:\")\n",
    "        datasetId = int(input(\"DatasetID []:\")) \n",
    "        port = 4064\n",
    "        conn = connect(hostname, username, password, port)\n",
    "        doIt(conn, datasetId)\n",
    "    finally:\n",
    "        if conn:\n",
    "            disconnect(conn)\n",
    "\n",
    "\n",
    "if __name__ ==\"__main__\":\n",
    "    main()"
   ]
  },
  {
   "cell_type": "code",
   "execution_count": null,
   "metadata": {},
   "outputs": [],
   "source": []
  }
 ],
 "metadata": {
  "kernelspec": {
   "display_name": "Python 3",
   "language": "python",
   "name": "python3"
  },
  "language_info": {
   "codemirror_mode": {
    "name": "ipython",
    "version": 3
   },
   "file_extension": ".py",
   "mimetype": "text/x-python",
   "name": "python",
   "nbconvert_exporter": "python",
   "pygments_lexer": "ipython3",
   "version": "3.6.12"
  }
 },
 "nbformat": 4,
 "nbformat_minor": 4
}
